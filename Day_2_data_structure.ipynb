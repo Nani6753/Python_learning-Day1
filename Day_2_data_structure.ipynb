{
  "nbformat": 4,
  "nbformat_minor": 0,
  "metadata": {
    "colab": {
      "provenance": [],
      "include_colab_link": true
    },
    "kernelspec": {
      "name": "python3",
      "display_name": "Python 3"
    },
    "language_info": {
      "name": "python"
    }
  },
  "cells": [
    {
      "cell_type": "markdown",
      "metadata": {
        "id": "view-in-github",
        "colab_type": "text"
      },
      "source": [
        "<a href=\"https://colab.research.google.com/github/Nani6753/Python_learning-Day1/blob/main/Day_2_data_structure.ipynb\" target=\"_parent\"><img src=\"https://colab.research.google.com/assets/colab-badge.svg\" alt=\"Open In Colab\"/></a>"
      ]
    },
    {
      "cell_type": "markdown",
      "source": [
        "## 1.Difference between the list and tuple?"
      ],
      "metadata": {
        "id": "HN6tCq60j2mQ"
      }
    },
    {
      "cell_type": "markdown",
      "source": [
        "List:\n",
        "List is a collection of data that is ordered and changeable. Lists are mutable in nature.lists data are written in array brackets ex:[].\n",
        "\n",
        "Tuple:\n",
        "A tuple is collection of data that is ordered and unchangeable.tuples are immutable in nature. Tuples data are written in round brackets ex:()."
      ],
      "metadata": {
        "id": "9PHzCTMSF6vd"
      }
    },
    {
      "cell_type": "code",
      "source": [
        "\n",
        "#list example\n",
        "my_list = [1, 2, 6, 5]\n",
        "my_list.append(5)\n",
        "print(my_list)\n",
        "#tuple example\n",
        "my_tuple= (1, 2, 6, 5)\n",
        "#my_tuple.append(5)"
      ],
      "metadata": {
        "id": "Cw8ffkhMk6RQ",
        "outputId": "02584ae4-10d5-4b31-d985-7edaf6c69f4e",
        "colab": {
          "base_uri": "https://localhost:8080/"
        }
      },
      "execution_count": null,
      "outputs": [
        {
          "output_type": "stream",
          "name": "stdout",
          "text": [
            "[1, 2, 6, 5, 5]\n"
          ]
        }
      ]
    },
    {
      "cell_type": "markdown",
      "source": [
        "## 2.How list is different from an array"
      ],
      "metadata": {
        "id": "uWhJG7hzk6Ov"
      }
    },
    {
      "cell_type": "markdown",
      "source": [
        "List:\n",
        "The entire list can be printed without any explicit looping.consume larger memory for easy addition of elements.\n",
        "\n",
        "Array:\n",
        "A loop has to be formed to print or access the components of the array.comparatively more compact in memory size."
      ],
      "metadata": {
        "id": "FOnVeLkSJi-4"
      }
    },
    {
      "cell_type": "code",
      "source": [
        "# list example\n",
        "sample_list = [1, \"harsh\", ['a', 'e']]\n",
        "\n",
        "print(type(sample_list))\n",
        "\n",
        "print(sample_list)\n",
        "# array example\n",
        "import array as arr\n",
        "a= arr.array('i', [1, 2, 3, 4])"
      ],
      "metadata": {
        "id": "MowyCcINo4Mn",
        "outputId": "a777887f-38e9-44d9-dacb-8e81a4ef8067",
        "colab": {
          "base_uri": "https://localhost:8080/"
        }
      },
      "execution_count": null,
      "outputs": [
        {
          "output_type": "stream",
          "name": "stdout",
          "text": [
            "<class 'list'>\n",
            "[1, 'harsh', ['a', 'e']]\n"
          ]
        }
      ]
    },
    {
      "cell_type": "markdown",
      "source": [
        "## 3. Use the python list append(),copy(), clear, count, extends(), index(), insert(), pop(), reverse(), sort(), min(), max(),and sum()"
      ],
      "metadata": {
        "id": "_0Rn7JQSk6M1"
      }
    },
    {
      "cell_type": "code",
      "source": [
        "\n",
        "#append\n",
        "my_list = [1, 2, 3]\n",
        "my_list.append(4)\n",
        "print(my_list)\n",
        "\n",
        "#copy\n",
        "original_list = [1, 2, 3]\n",
        "copied_list = original_list.copy()\n",
        "\n",
        "#clear\n",
        "my_list = [1, 2, 3]\n",
        "my_list.clear()\n",
        "print(my_list)\n",
        "\n",
        "#count\n",
        "my_list = [1, 3, 2, 3, 5, 4]\n",
        "count_of_2 = my_list.count(2)\n",
        "print(count_of_2)\n",
        "\n",
        "#extend\n",
        "list1 = [1, 2, 3]\n",
        "list2 = [4, 5, 6]\n",
        "list1.extend(list2)\n",
        "print(list1)\n",
        "\n",
        "#index\n",
        "my_list = [1, 3,3, 2, 4]\n",
        "index_of_2 = my_list.index(2)\n",
        "print(index_of_2)\n",
        "\n",
        "#insert\n",
        "my_list = [1, 2, 3, 4]\n",
        "my_list.insert(1, 5)\n",
        "print(my_list)\n",
        "\n",
        "#pop\n",
        "my_list = [1, 2, 3, 4]\n",
        "popped_element = my_list.pop(1)\n",
        "print(popped_element)\n",
        "\n",
        "#reverse\n",
        "my_list = [1, 2, 3, 4]\n",
        "my_list.reverse()\n",
        "print(my_list)\n",
        "\n",
        "#sort\n",
        "my_list = [1, 2, 4, 2, 5, 9, 3]\n",
        "my_list.sort()\n",
        "print(my_list)\n",
        "\n",
        "#min and max\n",
        "my_list = [1, 2, 4, 2, 5, 9, 3]\n",
        "minimum_value = min(my_list)\n",
        "maximum_value = max(my_list)\n",
        "print(minimum_value, maximum_value)\n",
        "\n",
        "#sum\n",
        "my_list = [1, 2, 3, 4]\n",
        "total_sum = sum(my_list)\n",
        "print(total_sum)"
      ],
      "metadata": {
        "id": "eecmR_aBDu9R",
        "outputId": "51ef33b8-b68e-4ca8-dee2-48939c90af87",
        "colab": {
          "base_uri": "https://localhost:8080/"
        }
      },
      "execution_count": null,
      "outputs": [
        {
          "output_type": "stream",
          "name": "stdout",
          "text": [
            "[1, 2, 3, 4]\n",
            "[]\n",
            "1\n",
            "[1, 2, 3, 4, 5, 6]\n",
            "3\n",
            "[1, 5, 2, 3, 4]\n",
            "2\n",
            "[4, 3, 2, 1]\n",
            "[1, 2, 2, 3, 4, 5, 9]\n",
            "1 9\n",
            "10\n"
          ]
        }
      ]
    },
    {
      "cell_type": "markdown",
      "source": [
        "## 4, How would you divide the list into two parts?"
      ],
      "metadata": {
        "id": "W9xfjUWak6J_"
      }
    },
    {
      "cell_type": "code",
      "source": [
        "#here i have used slicing method\n",
        "my_list = [5, 6, 7, 8, 9, 10, 11, 12, 13]\n",
        "\n",
        "# Divide into two parts\n",
        "mid_point = len(my_list) // 2\n",
        "first_part = my_list[:mid_point]\n",
        "second_part = my_list[mid_point:]\n",
        "\n",
        "print(\"First part:\", first_part)\n",
        "print(\"Second part:\", second_part)"
      ],
      "metadata": {
        "id": "91y1EEY3DONn",
        "outputId": "feb9a135-6d1e-4b34-eb31-d7558dc33264",
        "colab": {
          "base_uri": "https://localhost:8080/"
        }
      },
      "execution_count": null,
      "outputs": [
        {
          "output_type": "stream",
          "name": "stdout",
          "text": [
            "First part: [5, 6, 7, 8]\n",
            "Second part: [9, 10, 11, 12, 13]\n"
          ]
        }
      ]
    },
    {
      "cell_type": "markdown",
      "source": [
        "## 5. how to filter the multiple of 3 from a given list and them remove the odd number from the new filtered list.\n",
        "Eg A = [1,2,3,4,5,6,7,8,9,21,23,24]\n",
        "Filter_lsit = [3,6,9,21,24]\n",
        "output_list = [6,24]"
      ],
      "metadata": {
        "id": "Qb1mVGfnk6G5"
      }
    },
    {
      "cell_type": "code",
      "source": [
        "original_list = [1, 2, 3, 4, 5, 6, 7, 8, 9, 21, 23, 24]\n",
        "\n",
        "# Filter multiples of 3\n",
        "multiples_of_3 = [x for x in original_list if x % 3 == 0]\n",
        "\n",
        "# Remove odd numbers from the filtered list\n",
        "filtered_list = [x for x in multiples_of_3 if x % 2 == 0]\n",
        "\n",
        "print(\"Original List:\", original_list)\n",
        "print(\"Filtered List (Multiples of 3):\", multiples_of_3)\n",
        "print(\"Final Filtered List (Even multiples of 3):\", filtered_list)"
      ],
      "metadata": {
        "id": "9T09JHMxCoL3",
        "outputId": "70c29abc-1e5a-40c9-c563-eedea7edeefe",
        "colab": {
          "base_uri": "https://localhost:8080/"
        }
      },
      "execution_count": null,
      "outputs": [
        {
          "output_type": "stream",
          "name": "stdout",
          "text": [
            "Original List: [1, 2, 3, 4, 5, 6, 7, 8, 9, 21, 23, 24]\n",
            "Filtered List (Multiples of 3): [3, 6, 9, 21, 24]\n",
            "Final Filtered List (Even multiples of 3): [6, 24]\n"
          ]
        }
      ]
    },
    {
      "cell_type": "markdown",
      "source": [
        "## 6. How you can access keys and values simultaneously and update its value"
      ],
      "metadata": {
        "id": "auhYyjixk6FD"
      }
    },
    {
      "cell_type": "code",
      "source": [
        "my_dict = {'h': 1, 'a': 2, 'r': 3, 's': 4,'h': 5,'u': 6}\n",
        "\n",
        "# Accessing keys and values simultaneously\n",
        "for key, value in my_dict.items():\n",
        "    print(f\"Key: {key}, Value: {value}\")\n",
        "\n",
        "# Update the values\n",
        "for key in my_dict:\n",
        "    my_dict[key] = my_dict[key] * 2\n",
        "\n",
        "# Print the updated dictionary\n",
        "print(\"Updated Dictionary:\", my_dict)"
      ],
      "metadata": {
        "id": "B4or-e3aCFFD",
        "outputId": "28f96c99-5259-4ebb-ac49-245a459dbc64",
        "colab": {
          "base_uri": "https://localhost:8080/"
        }
      },
      "execution_count": null,
      "outputs": [
        {
          "output_type": "stream",
          "name": "stdout",
          "text": [
            "Key: h, Value: 5\n",
            "Key: a, Value: 2\n",
            "Key: r, Value: 3\n",
            "Key: s, Value: 4\n",
            "Key: u, Value: 6\n",
            "Updated Dictionary: {'h': 10, 'a': 4, 'r': 6, 's': 8, 'u': 12}\n"
          ]
        }
      ]
    },
    {
      "cell_type": "markdown",
      "source": [
        "## 7. Write python program to join, merge, concatente the two dictionaries..\n"
      ],
      "metadata": {
        "id": "vV00n0awk5_G"
      }
    },
    {
      "cell_type": "code",
      "source": [
        "#Using union() method\n",
        "def merge_dicts(dict1, dict2):\n",
        "    return dict1 | dict2\n",
        "\n",
        "# Example\n",
        "dict1 = {'m': 4, 'a': 5}\n",
        "dict2 = {'l': 6, 'i': 7}\n",
        "\n",
        "merged_dict = merge_dicts(dict1, dict2)\n",
        "print(\"Merged Dictionary:\", merged_dict)"
      ],
      "metadata": {
        "id": "sEIrjWafBb0L",
        "outputId": "9e424317-aaa2-4e57-c906-daa25b3ae590",
        "colab": {
          "base_uri": "https://localhost:8080/"
        }
      },
      "execution_count": null,
      "outputs": [
        {
          "output_type": "stream",
          "name": "stdout",
          "text": [
            "Merged Dictionary: {'m': 4, 'a': 5, 'l': 6, 'i': 7}\n"
          ]
        }
      ]
    },
    {
      "cell_type": "markdown",
      "source": [
        "## 8. How would you check a specific keys from the dictionary??\n"
      ],
      "metadata": {
        "id": "Z_7dpypWnQ-z"
      }
    },
    {
      "cell_type": "code",
      "source": [
        "#using key word \"in\"\n",
        "my_dict = {'j': 1, 'a': 2, 'i': 3}\n",
        "\n",
        "# Check if a specific key exists\n",
        "key_to_check = 'a'\n",
        "if key_to_check in my_dict:\n",
        "    print(f\"The key '{key_to_check}' exists in the dictionary with value: {my_dict[key_to_check]}\")\n",
        "else:\n",
        "    print(f\"The key '{key_to_check}' does not exist in the dictionary.\")"
      ],
      "metadata": {
        "id": "WUZ0oBkbBCVD",
        "outputId": "0945c07b-9f33-4f18-a73a-cedbe97cc55f",
        "colab": {
          "base_uri": "https://localhost:8080/"
        }
      },
      "execution_count": null,
      "outputs": [
        {
          "output_type": "stream",
          "name": "stdout",
          "text": [
            "The key 'a' exists in the dictionary with value: 2\n"
          ]
        }
      ]
    },
    {
      "cell_type": "markdown",
      "source": [
        "## 9. write a python program to find the unique vowel present in the sentence"
      ],
      "metadata": {
        "id": "EjxeB4ntnirH"
      }
    },
    {
      "cell_type": "code",
      "source": [
        "def unique_vowels(sentence):\n",
        "    return list(set(sentence.lower()) & set(\"aeiou\"))\n",
        "\n",
        "# Example usage:\n",
        "input_sentence = input(\"Enter a sentence: \")\n",
        "result = unique_vowels(input_sentence)\n",
        "\n",
        "print(\"Unique vowels in the sentence:\", result)"
      ],
      "metadata": {
        "id": "HI7Gfn5YAu7j",
        "outputId": "f9e53ecc-0890-4b7b-ca0b-4e8ba7efba9a",
        "colab": {
          "base_uri": "https://localhost:8080/"
        }
      },
      "execution_count": null,
      "outputs": [
        {
          "output_type": "stream",
          "name": "stdout",
          "text": [
            "Enter a sentence: Harsha is good boy\n",
            "Unique vowels in the sentence: ['i', 'a', 'o']\n"
          ]
        }
      ]
    },
    {
      "cell_type": "markdown",
      "source": [
        "## 10. We know that tuple is immutable, do any thing and add element to the tuples."
      ],
      "metadata": {
        "id": "B1VBImcfns6V"
      }
    },
    {
      "cell_type": "code",
      "source": [
        "\n",
        "\n",
        "#You can create a new tuple by concatenating two or more tuples.\n",
        "tuple1 = (12, 13,14)\n",
        "tuple2 = (15, 16,17)\n",
        "\n",
        "# Concatenate tuples\n",
        "new_tuple = tuple1 + tuple2\n",
        "print(new_tuple)"
      ],
      "metadata": {
        "id": "Y4UFA3evANae",
        "outputId": "5d0c0aa2-cdce-4c8f-f10a-2870632389b7",
        "colab": {
          "base_uri": "https://localhost:8080/"
        }
      },
      "execution_count": null,
      "outputs": [
        {
          "output_type": "stream",
          "name": "stdout",
          "text": [
            "(12, 13, 14, 15, 16, 17)\n"
          ]
        }
      ]
    },
    {
      "cell_type": "markdown",
      "source": [
        "## 11. How would you sum the list of tuple and sum of tuple of list\n",
        "list  = [(2,3),(4,5),(6,4)]\n",
        "output= [5,9,10]\n",
        "\n",
        "tuple  =([2,3],[4,5],[6,4])\n",
        "output  =  (5,9,10)"
      ],
      "metadata": {
        "id": "Yd7tDQHuoGFm"
      }
    },
    {
      "cell_type": "code",
      "source": [
        "\n",
        "\n",
        "#sum of lists in a tuple\n",
        "list_tuple = ([2, 3], [4, 5], [6, 4])\n",
        "\n",
        "# Sum the elements of lists within the tuple\n",
        "sum_result = tuple(sum(sublist) for sublist in list_tuple)\n",
        "\n",
        "print(\"Sum of lists in the tuple:\", sum_result)"
      ],
      "metadata": {
        "id": "VyAU1cXf_uOp",
        "outputId": "1a0576a6-d9d8-4b0e-9b9e-91ffbe8c9a30",
        "colab": {
          "base_uri": "https://localhost:8080/"
        }
      },
      "execution_count": null,
      "outputs": [
        {
          "output_type": "stream",
          "name": "stdout",
          "text": [
            "Sum of lists in the tuple: (5, 9, 10)\n"
          ]
        }
      ]
    },
    {
      "cell_type": "code",
      "source": [
        "\n",
        "\n",
        "#sum of tuples in a list\n",
        "tuple_list = [(2, 3), (4, 5), (6, 4)]\n",
        "\n",
        "# Sum the elements of tuples within the list\n",
        "sum_result = [sum(t) for t in tuple_list]\n",
        "\n",
        "print(\"Sum of tuples in the list:\", sum_result)"
      ],
      "metadata": {
        "id": "_la3JTxh_7mr",
        "outputId": "8381e38e-3fae-419f-8e28-3b9a7a9eb771",
        "colab": {
          "base_uri": "https://localhost:8080/"
        }
      },
      "execution_count": null,
      "outputs": [
        {
          "output_type": "stream",
          "name": "stdout",
          "text": [
            "Sum of tuples in the list: [5, 9, 10]\n"
          ]
        }
      ]
    },
    {
      "cell_type": "markdown",
      "source": [
        "## 12. FIND THE FREQUENCY OF THE KEYS IN THE GIVEN DICTIONARY"
      ],
      "metadata": {
        "id": "YiXg_vDpoq7X"
      }
    },
    {
      "cell_type": "code",
      "source": [
        "\n",
        "\n",
        "dict = {'h': 1, 'a': 2, 'r': 2, 's': 3, 'h': 2, 'u': 4}\n",
        "\n",
        "frequencies = {}\n",
        "for value in dict.values():\n",
        "    if value in frequencies:\n",
        "        frequencies[value] += 1\n",
        "    else:\n",
        "         frequencies[value] = 1\n",
        "\n",
        "for value, frequency in frequencies.items():\n",
        "    print(f\"The frequency of value {value} is: {frequency}\")"
      ],
      "metadata": {
        "id": "7S0s351s-4nc",
        "outputId": "069d86f9-a77b-491c-e697-7664cc45380a",
        "colab": {
          "base_uri": "https://localhost:8080/"
        }
      },
      "execution_count": null,
      "outputs": [
        {
          "output_type": "stream",
          "name": "stdout",
          "text": [
            "The frequency of value 2 is: 3\n",
            "The frequency of value 3 is: 1\n",
            "The frequency of value 4 is: 1\n"
          ]
        }
      ]
    }
  ]
}